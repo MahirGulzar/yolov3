{
 "cells": [
  {
   "cell_type": "markdown",
   "metadata": {
    "colab_type": "text",
    "id": "HvhYZrIZCEyo"
   },
   "source": [
    "<img src=\"https://storage.googleapis.com/ultralytics/logo/logoname1000.png\" width=\"150\">\n",
    "\n",
    "This notebook contains software developed by Ultralytics LLC, and **is freely available for redistribution under the GPL-3.0 license**. For more information please visit https://github.com/ultralytics/yolov3 and https://www.ultralytics.com.\n",
    "\n",
    "\n",
    "\n"
   ]
  },
  {
   "cell_type": "code",
   "execution_count": 1,
   "metadata": {
    "colab": {
     "base_uri": "https://localhost:8080/",
     "height": 34
    },
    "colab_type": "code",
    "id": "e5ylFIvlCEym",
    "outputId": "fbc88edd-7b26-4735-83bf-b404b76f9c90"
   },
   "outputs": [
    {
     "name": "stdout",
     "output_type": "stream",
     "text": [
      "PyTorch 1.3.1 _CudaDeviceProperties(name='GeForce RTX 2080 Ti', major=7, minor=5, total_memory=11019MB, multi_processor_count=68)\n"
     ]
    }
   ],
   "source": [
    "import time\n",
    "import glob\n",
    "import torch\n",
    "import os\n",
    "\n",
    "from IPython.display import Image, clear_output \n",
    "print('PyTorch %s %s' % (torch.__version__, torch.cuda.get_device_properties(0) if torch.cuda.is_available() else 'CPU'))"
   ]
  },
  {
   "cell_type": "markdown",
   "metadata": {
    "colab_type": "text",
    "id": "7mGmQbAO5pQb"
   },
   "source": [
    "Clone repository and download COCO 2014 dataset (20GB):"
   ]
  },
  {
   "cell_type": "code",
   "execution_count": null,
   "metadata": {
    "colab": {
     "base_uri": "https://localhost:8080/",
     "height": 221
    },
    "colab_type": "code",
    "id": "tIFv0p1TCEyj",
    "outputId": "e9230cff-ede4-491a-a74d-063ce77f21cd"
   },
   "outputs": [],
   "source": [
    "!git clone https://github.com/ultralytics/yolov3  # clone\n",
    "!bash yolov3/data/get_coco_dataset_gdrive.sh  # copy COCO2014 dataset (19GB)\n",
    "%cd yolov3"
   ]
  },
  {
   "cell_type": "markdown",
   "metadata": {
    "colab_type": "text",
    "id": "N3qM6T0W53gh"
   },
   "source": [
    "Run `detect.py` to perform inference on images in `data/samples` folder:"
   ]
  },
  {
   "cell_type": "code",
   "execution_count": 2,
   "metadata": {
    "colab": {
     "base_uri": "https://localhost:8080/",
     "height": 477
    },
    "colab_type": "code",
    "id": "zR9ZbuQCH7FX",
    "outputId": "49268b66-125d-425e-dbd0-17b108914c51"
   },
   "outputs": [
    {
     "name": "stdout",
     "output_type": "stream",
     "text": [
      "Namespace(batch_size=32, cfg='cfg/yolov3_custom.cfg', conf_thres=0.001, data='data/custom.data', device='3', img_size=416, iou_thres=0.6, profile=False, save_json=False, single_cls=False, task='test', weights='weights/best.pt')\n",
      "Using CUDA device0 _CudaDeviceProperties(name='GeForce RTX 2080 Ti', total_memory=11019MB)\n",
      "\n",
      "Caching labels (1013 found, 0 missing, 0 empty, 0 duplicate, for 1013 images): 1\n",
      "               Class    Images   Targets         P         R   mAP@0.5        F1\n",
      "Traceback (most recent call last):\n",
      "  File \"test.py\", line 256, in <module>\n",
      "    opt.profile)\n",
      "  File \"test.py\", line 99, in test\n",
      "    output = non_max_suppression(inf_out, conf_thres=conf_thres, iou_thres=iou_thres)  # nms\n",
      "  File \"/home/enes/yolov3/utils/utils.py\", line 572, in non_max_suppression\n",
      "    i = torchvision.ops.boxes.batched_nms(boxes, scores, c, iou_thres)\n",
      "  File \"/home/enes/miniconda3/envs/pp/lib/python3.7/site-packages/torchvision/ops/boxes.py\", line 72, in batched_nms\n",
      "    keep = nms(boxes_for_nms, scores, iou_threshold)\n",
      "  File \"/home/enes/miniconda3/envs/pp/lib/python3.7/site-packages/torchvision/ops/boxes.py\", line 33, in nms\n",
      "    return _C.nms(boxes, scores, iou_threshold)\n",
      "RuntimeError: CUDA error: no kernel image is available for execution on the device (nms_cuda at /tmp/pip-req-build-9d9zypi6/torchvision/csrc/cuda/nms_cuda.cu:127)\n",
      "frame #0: c10::Error::Error(c10::SourceLocation, std::__cxx11::basic_string<char, std::char_traits<char>, std::allocator<char> > const&) + 0x6d (0x7fd19478fe7d in /home/enes/miniconda3/envs/pp/lib/python3.7/site-packages/torch/lib/libc10.so)\n",
      "frame #1: nms_cuda(at::Tensor const&, at::Tensor const&, float) + 0x8d1 (0x7fd15afacece in /home/enes/miniconda3/envs/pp/lib/python3.7/site-packages/torchvision/_C.so)\n",
      "frame #2: nms(at::Tensor const&, at::Tensor const&, float) + 0x183 (0x7fd15af70ed7 in /home/enes/miniconda3/envs/pp/lib/python3.7/site-packages/torchvision/_C.so)\n",
      "frame #3: <unknown function> + 0x79cf5 (0x7fd15af8acf5 in /home/enes/miniconda3/envs/pp/lib/python3.7/site-packages/torchvision/_C.so)\n",
      "frame #4: <unknown function> + 0x765b0 (0x7fd15af875b0 in /home/enes/miniconda3/envs/pp/lib/python3.7/site-packages/torchvision/_C.so)\n",
      "frame #5: <unknown function> + 0x70d1e (0x7fd15af81d1e in /home/enes/miniconda3/envs/pp/lib/python3.7/site-packages/torchvision/_C.so)\n",
      "frame #6: <unknown function> + 0x70fc2 (0x7fd15af81fc2 in /home/enes/miniconda3/envs/pp/lib/python3.7/site-packages/torchvision/_C.so)\n",
      "frame #7: <unknown function> + 0x5be4a (0x7fd15af6ce4a in /home/enes/miniconda3/envs/pp/lib/python3.7/site-packages/torchvision/_C.so)\n",
      "<omitting python frames>\n",
      "frame #29: __libc_start_main + 0xe7 (0x7fd1c5b62b97 in /lib/x86_64-linux-gnu/libc.so.6)\n",
      "\n"
     ]
    }
   ],
   "source": [
    "!python detect.py --cfg cfg/yolov3_custom.cfg --weights weights/best.pt --device 3 --data data/custom.data\n",
    " #Image(filename='output/zidane.jpg', width=600)"
   ]
  },
  {
   "cell_type": "markdown",
   "metadata": {
    "colab_type": "text",
    "id": "ijTFlKcp6JVy"
   },
   "source": [
    "Run `train.py` to train YOLOv3-SPP starting from a darknet53 backbone:"
   ]
  },
  {
   "cell_type": "code",
   "execution_count": null,
   "metadata": {
    "colab": {},
    "colab_type": "code",
    "id": "Mupsoa0lzSPo"
   },
   "outputs": [],
   "source": [
    "!python3 train.py --data data/coco_64img.data --img-size 320 --epochs 3 --nosave"
   ]
  },
  {
   "cell_type": "markdown",
   "metadata": {
    "colab_type": "text",
    "id": "0eq1SMWl6Sfn"
   },
   "source": [
    "Run `test.py` to evaluate the performance of a trained darknet or PyTorch model:"
   ]
  },
  {
   "cell_type": "code",
   "execution_count": null,
   "metadata": {
    "colab": {
     "base_uri": "https://localhost:8080/",
     "height": 1000
    },
    "colab_type": "code",
    "id": "0v0RFtO-WG9o",
    "outputId": "6791f795-cb10-4da3-932f-c4ac47574601"
   },
   "outputs": [],
   "source": [
    "!python3 test.py --data data/coco.data --save-json --img-size 416  # 0.565 mAP"
   ]
  },
  {
   "cell_type": "markdown",
   "metadata": {
    "colab_type": "text",
    "id": "VUOiNLtMP5aG"
   },
   "source": [
    "Reproduce tutorial training runs and plot training results:"
   ]
  },
  {
   "cell_type": "code",
   "execution_count": null,
   "metadata": {
    "colab": {
     "base_uri": "https://localhost:8080/",
     "height": 417
    },
    "colab_type": "code",
    "id": "LA9qqd_NCEyB",
    "outputId": "1521c334-92ef-4f9f-bb8a-916ad5e2d9c2"
   },
   "outputs": [],
   "source": [
    "!python3 train.py --data data/coco_16img.data --batch-size 16 --accumulate 1 --nosave && mv results.txt results_coco_16img.txt  # CUSTOM TRAINING EXAMPLE\n",
    "!python3 train.py --data data/coco_64img.data --batch-size 16 --accumulate 1 --nosave && mv results.txt results_coco_64img.txt \n",
    "!python3 -c \"from utils import utils; utils.plot_results()\"  # plot training results\n",
    "Image(filename='results.png', width=800)"
   ]
  },
  {
   "cell_type": "markdown",
   "metadata": {
    "colab_type": "text",
    "id": "14mT7T7Q6erR"
   },
   "source": [
    "Extras below\n",
    "\n",
    "---\n",
    "\n",
    "\n"
   ]
  },
  {
   "cell_type": "code",
   "execution_count": null,
   "metadata": {
    "colab": {},
    "colab_type": "code",
    "id": "42_zEpW6W_N1"
   },
   "outputs": [],
   "source": [
    "!git pull"
   ]
  },
  {
   "cell_type": "code",
   "execution_count": null,
   "metadata": {
    "colab": {},
    "colab_type": "code",
    "id": "9bVTcveIOzDd"
   },
   "outputs": [],
   "source": [
    "%cd yolov3"
   ]
  },
  {
   "cell_type": "code",
   "execution_count": null,
   "metadata": {
    "colab": {},
    "colab_type": "code",
    "id": "odMr0JFnCEyb"
   },
   "outputs": [],
   "source": [
    "%ls"
   ]
  },
  {
   "cell_type": "code",
   "execution_count": null,
   "metadata": {
    "colab": {},
    "colab_type": "code",
    "id": "uB3v5hj_CEyI"
   },
   "outputs": [],
   "source": [
    "# Unit Tests\n",
    "!python3 detect.py  # detect 2 persons, 1 tie\n",
    "!python3 test.py --data data/coco_32img.data  # test mAP = 0.8\n",
    "!python3 train.py --data data/coco_32img.data --epochs 3 --nosave  # train 3 epochs"
   ]
  },
  {
   "cell_type": "code",
   "execution_count": null,
   "metadata": {
    "colab": {},
    "colab_type": "code",
    "id": "6D0si0TNCEx5"
   },
   "outputs": [],
   "source": [
    "# Evolve Hyperparameters\n",
    "!python3 train.py --data data/coco.data --img-size 320 --epochs 1 --evolve"
   ]
  }
 ],
 "metadata": {
  "accelerator": "GPU",
  "colab": {
   "collapsed_sections": [],
   "name": "ultralytics/YOLOv3",
   "provenance": [],
   "version": "0.3.2"
  },
  "kernelspec": {
   "display_name": "second",
   "language": "python",
   "name": "second"
  },
  "language_info": {
   "codemirror_mode": {
    "name": "ipython",
    "version": 3
   },
   "file_extension": ".py",
   "mimetype": "text/x-python",
   "name": "python",
   "nbconvert_exporter": "python",
   "pygments_lexer": "ipython3",
   "version": "3.7.5"
  }
 },
 "nbformat": 4,
 "nbformat_minor": 1
}
